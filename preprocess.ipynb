{
 "cells": [
  {
   "cell_type": "code",
   "execution_count": 1,
   "metadata": {},
   "outputs": [],
   "source": [
    "import json\n",
    "import os\n",
    "from glob import glob"
   ]
  },
  {
   "cell_type": "markdown",
   "metadata": {},
   "source": [
    "# Objects\n",
    "\n",
    "- Chỉ lấy những objects có điểm >0.4"
   ]
  },
  {
   "cell_type": "code",
   "execution_count": null,
   "metadata": {},
   "outputs": [],
   "source": [
    "os.makedirs('./objects_filtered')"
   ]
  },
  {
   "cell_type": "code",
   "execution_count": 13,
   "metadata": {},
   "outputs": [],
   "source": [
    "objects_paths = glob('./objects-b2/objects\\\\*\\\\*.json')"
   ]
  },
  {
   "cell_type": "code",
   "execution_count": 12,
   "metadata": {},
   "outputs": [
    {
     "data": {
      "text/plain": [
       "'L01_V001/0001.json'"
      ]
     },
     "execution_count": 12,
     "metadata": {},
     "output_type": "execute_result"
    }
   ],
   "source": [
    "path = './objects/L01_V001/0001.json'\n",
    "\n",
    "path.split('/')[-2] + '/' + path.split('/')[-1]"
   ]
  },
  {
   "cell_type": "code",
   "execution_count": 14,
   "metadata": {},
   "outputs": [],
   "source": [
    "for obj_path in objects_paths:\n",
    "    with open(obj_path, 'r') as r_stream:\n",
    "        keyframe_filename = obj_path.split('\\\\')[-2] + '/' + obj_path.split('\\\\')[-1]\n",
    "        obj = json.load(r_stream)\n",
    "        obj_filtered = {\n",
    "            \"Objects\": [],\n",
    "            \"Scores\": []\n",
    "        }\n",
    "        idx = 0\n",
    "        for score in obj[\"detection_scores\"]:\n",
    "            if float(score) < 0.7:\n",
    "                break\n",
    "            else:\n",
    "                obj_filtered[\"Scores\"].append(score)\n",
    "                obj_filtered[\"Objects\"].append(obj[\"detection_class_entities\"][idx])\n",
    "                idx += 1\n",
    "        os.makedirs('./objects_filtered/' + keyframe_filename.split('/')[0], exist_ok=True)\n",
    "        with open('./objects_filtered/' + keyframe_filename, 'w') as w_stream:\n",
    "            json.dump(obj_filtered, w_stream)"
   ]
  },
  {
   "cell_type": "code",
   "execution_count": null,
   "metadata": {},
   "outputs": [],
   "source": [
    "os.makedirs('./objects_filtered')\n",
    "objects_paths = glob('./objects\\\\*\\\\*.json')\n",
    "\n",
    "for obj_path in objects_paths:\n",
    "    with open(obj_path, 'r') as r_stream:\n",
    "        keyframe_filename = obj_path.split('\\\\')[-2] + '/' + obj_path.split('\\\\')[-1]\n",
    "        obj = json.load(r_stream)\n",
    "        obj_filtered = {\n",
    "            \"Objects\": [],\n",
    "            \"Scores\": []\n",
    "        }\n",
    "        idx = 0\n",
    "        for score in obj[\"detection_scores\"]:\n",
    "            if float(score) < 0.4:\n",
    "                break\n",
    "            else:\n",
    "                obj_filtered[\"Scores\"].append(score)\n",
    "                obj_filtered[\"Objects\"].append(obj[\"detection_class_entities\"][idx])\n",
    "                idx += 1\n",
    "        os.makedirs('./objects_filtered/' + keyframe_filename.split('/')[0], exist_ok=True)\n",
    "        with open('./objects_filtered/' + keyframe_filename, 'w') as w_stream:\n",
    "            json.dump(obj_filtered, w_stream)"
   ]
  },
  {
   "cell_type": "markdown",
   "metadata": {},
   "source": [
    "# Concept detection"
   ]
  },
  {
   "cell_type": "code",
   "execution_count": 5,
   "metadata": {},
   "outputs": [],
   "source": [
    "import azure.storage.blob as asb\n",
    "import os\n",
    "connectionString = \"\"\n",
    "\n",
    "#Kết nối với Azure Storage\n",
    "service = asb.BlobServiceClient.from_connection_string(conn_str=connectionString)"
   ]
  },
  {
   "cell_type": "code",
   "execution_count": 6,
   "metadata": {},
   "outputs": [],
   "source": [
    "folder_name = '20/' #Chỉnh cái này để chuyển folder"
   ]
  },
  {
   "cell_type": "code",
   "execution_count": 7,
   "metadata": {},
   "outputs": [],
   "source": [
    "keyf_container = service.get_container_client(\"keyframes\")\n",
    "# cur_blobs = keyf_container.walk_blobs('01/keyframes/', delimiter='/')\n",
    "cur_blobs = keyf_container.list_blob_names(name_starts_with=folder_name)"
   ]
  },
  {
   "cell_type": "code",
   "execution_count": 8,
   "metadata": {},
   "outputs": [
    {
     "name": "stderr",
     "output_type": "stream",
     "text": [
      "Unable to stream download: (\"Connection broken: InvalidChunkLength(got length b'', 0 bytes read)\", InvalidChunkLength(got length b'', 0 bytes read))\n"
     ]
    }
   ],
   "source": [
    "# Tải tầm 15 phút\n",
    "for blob in cur_blobs:\n",
    "    #Tải keyframes\n",
    "    blob_data = keyf_container.download_blob(blob)\n",
    "    #Tạo folder chứa keyframes\n",
    "    path = 'keyframes/' + blob[:blob.rfind('/')]\n",
    "    if not os.path.exists(path):\n",
    "        os.makedirs(path)\n",
    "    #Tải file vào folder\n",
    "    with open('keyframes/' + blob, 'wb') as p:\n",
    "        blob_data.readinto(p)"
   ]
  },
  {
   "cell_type": "code",
   "execution_count": 9,
   "metadata": {},
   "outputs": [],
   "source": [
    "import json\n",
    "\n",
    "with open('./concepts_config.json', 'r') as r_stream:\n",
    "    id2label = json.load(r_stream)"
   ]
  },
  {
   "cell_type": "code",
   "execution_count": 10,
   "metadata": {},
   "outputs": [],
   "source": [
    "from transformers import EfficientNetImageProcessor, EfficientNetForImageClassification\n",
    "import torch\n",
    "from PIL import Image\n",
    "from glob import glob\n",
    "\n",
    "keyframes_path = glob(\"./keyframes\\\\*\\\\*\\\\*\\\\*.jpg\")\n",
    "\n",
    "preprocessor = EfficientNetImageProcessor.from_pretrained(\"google/efficientnet-b2\")\n",
    "model = EfficientNetForImageClassification.from_pretrained(\"google/efficientnet-b2\")\n",
    "\n",
    "for path in keyframes_path:\n",
    "    image = Image.open(path)\n",
    "    vid_name = path.split('\\\\')[3]\n",
    "    frameid = path.split('\\\\')[-1][:4]\n",
    "    dest_path = \"./concepts/\" + vid_name + '/' \n",
    "\n",
    "    inputs = preprocessor(image, return_tensors=\"pt\")\n",
    "\n",
    "    with torch.no_grad():\n",
    "        logits = model(**inputs).logits\n",
    "\n",
    "    # model predicts one of the 1000 ImageNet classes\n",
    "    predicted_label = logits.argmax(-1).item()\n",
    "    # print(model.config.id2label[predicted_label])\n",
    "    # concept_label.append(model.config.id2label[predicted_label])\n",
    "    concept_label = id2label[str(predicted_label)]\n",
    "    \n",
    "    os.makedirs(dest_path, exist_ok=True)\n",
    "    with open(dest_path + frameid + '.json', 'w') as w_stream:\n",
    "        json.dump(concept_label, w_stream)"
   ]
  },
  {
   "cell_type": "markdown",
   "metadata": {},
   "source": [
    "# Fix naming"
   ]
  },
  {
   "cell_type": "code",
   "execution_count": 16,
   "metadata": {},
   "outputs": [],
   "source": [
    "folders = ['L19','L20']\n",
    "A = ['V001','V002']\n",
    "concepts_path = glob('./concepts/*\\\\*.json')\n",
    "\n",
    "for path in concepts_path:\n",
    "    if (path[11] + path[12] + path[13] in folders) and (path[15]+path[16]+path[17]+path[18] in A):\n",
    "        if(path[11:14] == 'L19') and (path[15:19] == 'V001'):\n",
    "            continue \n",
    "        newname = path[:19] + '/' + path[20] + path[21] + path[22] + '.json'\n",
    "        os.rename(path, newname)\n"
   ]
  },
  {
   "cell_type": "markdown",
   "metadata": {},
   "source": [
    "# *Playgrounds*"
   ]
  },
  {
   "cell_type": "code",
   "execution_count": 11,
   "metadata": {},
   "outputs": [
    {
     "name": "stdout",
     "output_type": "stream",
     "text": [
      "L11_V007\n",
      "L12_V011\n",
      "L12_V028\n",
      "L13_V002\n",
      "L14_V015\n",
      "L14_V026\n",
      "L15_V007\n",
      "L15_V019\n",
      "L16_V030\n",
      "L19_V060\n",
      "L19_V098\n",
      "L20_V059\n",
      "L20_V083\n"
     ]
    }
   ],
   "source": [
    "objects_paths = glob('./objects_filtered/*')\n",
    "clip_paths = glob('./clip-features-vit-b32/*.npy')\n",
    "\n",
    "obj_vids = []\n",
    "for path in objects_paths:\n",
    "    obj_vids.append(path.split('\\\\')[-1])\n",
    "    \n",
    "for path in clip_paths:\n",
    "    vid = path.split('\\\\')[-1][:8]\n",
    "    if vid not in obj_vids:\n",
    "        print(vid)"
   ]
  },
  {
   "cell_type": "code",
   "execution_count": null,
   "metadata": {},
   "outputs": [],
   "source": [
    "import pickle\n",
    "\n",
    "with open('unsplash-25k-photos-embeddings.pkl', 'rb') as fIn:\n",
    "        img_names, img_emb = pickle.load(fIn) "
   ]
  },
  {
   "cell_type": "code",
   "execution_count": null,
   "metadata": {},
   "outputs": [],
   "source": [
    "img_emb[0]"
   ]
  },
  {
   "cell_type": "code",
   "execution_count": null,
   "metadata": {},
   "outputs": [],
   "source": [
    "import torch\n",
    "from datasets import load_dataset\n",
    "from transformers import EfficientNetImageProcessor, EfficientNetForImageClassification\n",
    "from imageio import imopen\n",
    "\n",
    "dataset = load_dataset(\"huggingface/cats-image\")\n",
    "image = dataset[\"test\"][\"image\"][0]\n",
    "print(image)\n",
    "\n",
    "preprocessor = EfficientNetImageProcessor.from_pretrained(\"google/efficientnet-b2\")\n",
    "model = EfficientNetForImageClassification.from_pretrained(\"google/efficientnet-b2\")\n",
    "\n",
    "inputs = preprocessor(image, return_tensors=\"pt\")\n",
    "\n",
    "with torch.no_grad():\n",
    "    logits = model(**inputs).logits\n",
    "\n",
    "# model predicts one of the 1000 ImageNet classes\n",
    "predicted_label = logits.argmax(-1).item()\n",
    "print(model.config.id2label[predicted_label])\n"
   ]
  }
 ],
 "metadata": {
  "kernelspec": {
   "display_name": "Python 3",
   "language": "python",
   "name": "python3"
  },
  "language_info": {
   "codemirror_mode": {
    "name": "ipython",
    "version": 3
   },
   "file_extension": ".py",
   "mimetype": "text/x-python",
   "name": "python",
   "nbconvert_exporter": "python",
   "pygments_lexer": "ipython3",
   "version": "3.11.5"
  },
  "orig_nbformat": 4
 },
 "nbformat": 4,
 "nbformat_minor": 2
}
